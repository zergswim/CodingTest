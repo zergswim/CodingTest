{
 "cells": [
  {
   "cell_type": "code",
   "execution_count": 1,
   "metadata": {
    "execution": {
     "iopub.execute_input": "2021-12-22T07:46:24.774364Z",
     "iopub.status.busy": "2021-12-22T07:46:24.773853Z",
     "iopub.status.idle": "2021-12-22T07:46:24.779533Z",
     "shell.execute_reply": "2021-12-22T07:46:24.778756Z",
     "shell.execute_reply.started": "2021-12-22T07:46:24.774311Z"
    }
   },
   "outputs": [],
   "source": [
    "rectangle =[[1,1,7,4],[3,2,5,5],[4,3,6,9],[2,6,8,8]]\n",
    "characterX = 1\n",
    "characterY = 3\n",
    "itemX = 7\n",
    "itemY = 8\n",
    "\n",
    "#rectangle =[[1,1,8,4],[2,2,4,9],[3,6,9,8],[6,3,7,7]]\n",
    "#characterX = 9\n",
    "#characterY = 7\n",
    "#itemX = 6\n",
    "#itemY = 1"
   ]
  },
  {
   "cell_type": "code",
   "execution_count": 2,
   "metadata": {
    "execution": {
     "iopub.execute_input": "2021-12-22T07:47:17.435236Z",
     "iopub.status.busy": "2021-12-22T07:47:17.434902Z",
     "iopub.status.idle": "2021-12-22T07:47:17.451746Z",
     "shell.execute_reply": "2021-12-22T07:47:17.450741Z",
     "shell.execute_reply.started": "2021-12-22T07:47:17.435202Z"
    }
   },
   "outputs": [],
   "source": [
    "def drawLine(arr):\n",
    "    rtn = []\n",
    "    x1, y1 = arr[0], arr[1]\n",
    "    x2, y2 = arr[2], arr[3]\n",
    "\n",
    "    for i in range(y1, y2+1):\n",
    "        rtn.append([x1, i])\n",
    "        rtn.append([x2, i])\n",
    "        if(i<y2):\n",
    "            rtn.append([x1, i+0.5])\n",
    "            rtn.append([x2, i+0.5])\n",
    "    \n",
    "    for i in range(x1, x2+1):\n",
    "        rtn.append([i, y1])\n",
    "        rtn.append([i, y2])\n",
    "        if(i<x2):\n",
    "            rtn.append([i+0.5, y1])\n",
    "            rtn.append([i+0.5, y2])\n",
    "        \n",
    "    return(rtn)\n",
    "\n",
    "def dropLine(rect, line):\n",
    "    drops = []\n",
    "    rx1, ry1 = rect[0], rect[1]\n",
    "    rx2, ry2 = rect[2], rect[3]\n",
    "    \n",
    "    for l in line:\n",
    "        lx, ly = l[0], l[1]\n",
    "\n",
    "        if(rx1 < lx and rx2 > lx) and (ry1 < ly and ry2 > ly):\n",
    "            drops.append(l)\n",
    "                \n",
    "    return drops\n",
    "\n",
    "def move(x, y, moved):\n",
    "    if [x+0.5, y] in rst:\n",
    "        rst.remove([x+0.5,y])\n",
    "        x += 1\n",
    "        moved += 1\n",
    "    elif [x, y+0.5] in rst:\n",
    "        rst.remove([x,y+0.5])\n",
    "        y += 1\n",
    "        moved += 1\n",
    "    elif [x-0.5, y] in rst:\n",
    "        rst.remove([x-0.5,y])\n",
    "        x -= 1\n",
    "        moved += 1\n",
    "    elif [x, y-0.5] in rst:\n",
    "        rst.remove([x,y-0.5])\n",
    "        y -= 1\n",
    "        moved += 1\n",
    "        \n",
    "    return(x, y,moved)\n",
    "    \n",
    "def action(x, y, mov):\n",
    "    #print(\"start:\",x, y, \"to item:\", itemX, itemY)\n",
    "    while (itemX != x or itemY != y):\n",
    "        x, y, mov = move(x, y, mov)\n",
    "\n",
    "    return mov"
   ]
  },
  {
   "cell_type": "code",
   "execution_count": 3,
   "metadata": {
    "execution": {
     "iopub.execute_input": "2021-12-22T07:48:28.223145Z",
     "iopub.status.busy": "2021-12-22T07:48:28.222800Z",
     "iopub.status.idle": "2021-12-22T07:48:28.516977Z",
     "shell.execute_reply": "2021-12-22T07:48:28.515915Z",
     "shell.execute_reply.started": "2021-12-22T07:48:28.223113Z"
    }
   },
   "outputs": [
    {
     "data": {
      "image/png": "[encoded data removed]",
      "text/plain": [
       "<Figure size 432x432 with 1 Axes>"
      ]
     },
     "metadata": {
      "needs_background": "light"
     },
     "output_type": "display_data"
    }
   ],
   "source": [
    "import numpy as np\n",
    "from matplotlib import pyplot as plt\n",
    "\n",
    "def showLine(line):\n",
    "    test = np.array(line)\n",
    "    x, y = test.T\n",
    "    \n",
    "    plt.figure(figsize=(6,6))\n",
    "    plt.xlim(0,10)\n",
    "    plt.ylim(0,10)\n",
    "    plt.xticks(range(0,10))\n",
    "    plt.yticks(range(0,10))\n",
    "    plt.grid(True)\n",
    "    #plt.axis('equal')\n",
    "\n",
    "    plt.scatter(x,y)    \n",
    "    plt.show()\n",
    "\n",
    "\n",
    "#0.5단위 점생성\n",
    "line = []\n",
    "for r in rectangle:\n",
    "    line.extend( drawLine(r) )\n",
    "\n",
    "showLine(line)"
   ]
  },
  {
   "cell_type": "code",
   "execution_count": 4,
   "metadata": {
    "execution": {
     "iopub.execute_input": "2021-12-22T07:48:53.971929Z",
     "iopub.status.busy": "2021-12-22T07:48:53.971159Z",
     "iopub.status.idle": "2021-12-22T07:48:54.173560Z",
     "shell.execute_reply": "2021-12-22T07:48:54.172586Z",
     "shell.execute_reply.started": "2021-12-22T07:48:53.971875Z"
    }
   },
   "outputs": [
    {
     "data": {
      "image/png": "[encoded data removed]",
      "text/plain": [
       "<Figure size 432x432 with 1 Axes>"
      ]
     },
     "metadata": {
      "needs_background": "light"
     },
     "output_type": "display_data"
    }
   ],
   "source": [
    "#겹치는 부분 추출\n",
    "drops = []\n",
    "for a in rectangle:\n",
    "    for b in rectangle:\n",
    "        drops.extend( dropLine(a, drawLine(b)) )\n",
    "\n",
    "#겹치는 부분 삭제\n",
    "for d in drops:\n",
    "    if d in line:\n",
    "        line.remove(d)\n",
    "    \n",
    "#중복제거\n",
    "rst = []\n",
    "for l in line:\n",
    "    if l not in rst:\n",
    "        rst.append(l)\n",
    "\n",
    "showLine(rst)"
   ]
  },
  {
   "cell_type": "code",
   "execution_count": 5,
   "metadata": {
    "execution": {
     "iopub.execute_input": "2021-12-22T07:49:05.598524Z",
     "iopub.status.busy": "2021-12-22T07:49:05.598010Z",
     "iopub.status.idle": "2021-12-22T07:49:05.606039Z",
     "shell.execute_reply": "2021-12-22T07:49:05.604861Z",
     "shell.execute_reply.started": "2021-12-22T07:49:05.598474Z"
    }
   },
   "outputs": [
    {
     "name": "stdout",
     "output_type": "stream",
     "text": [
      "17\n"
     ]
    }
   ],
   "source": [
    "a = action(characterX, characterY, 0)\n",
    "b = action(characterX, characterY, 0)\n",
    "\n",
    "print(min(a,b))"
   ]
  }
 ],
 "metadata": {
  "kernelspec": {
   "display_name": "Python 3",
   "language": "python",
   "name": "python3"
  },
  "language_info": {
   "codemirror_mode": {
    "name": "ipython",
    "version": 3
   },
   "file_extension": ".py",
   "mimetype": "text/x-python",
   "name": "python",
   "nbconvert_exporter": "python",
   "pygments_lexer": "ipython3",
   "version": "3.6.9"
  }
 },
 "nbformat": 4,
 "nbformat_minor": 4
}
